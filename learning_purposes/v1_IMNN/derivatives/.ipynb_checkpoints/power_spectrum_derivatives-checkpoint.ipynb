{
 "cells": [
  {
   "cell_type": "code",
   "execution_count": 1,
   "metadata": {},
   "outputs": [
    {
     "name": "stdout",
     "output_type": "stream",
     "text": [
      "Populating the interactive namespace from numpy and matplotlib\n"
     ]
    }
   ],
   "source": [
    "import sys\n",
    "import numpy as np\n",
    "import matplotlib.pyplot as plt\n",
    "# for running notebooks, plotting inline\n",
    "%pylab inline\n",
    "import pyccl as ccl # for generating weak lensing cross power spectra\n"
   ]
  },
  {
   "cell_type": "code",
   "execution_count": 8,
   "metadata": {},
   "outputs": [],
   "source": [
    "nbins = 2 # number of tomographic bins\n",
    "# number of cross/auto angular power spectra\n",
    "ncombinations = int(nbins*(nbins+1)/2)\n",
    "nz = 1000 #redshift resolution\n",
    "zbins = [(0.5, 0.7), (0.9, 1.1)]\n",
    "z = np.linspace(0.5,1.1,nz)\n",
    "ells = np.logspace(np.log10(10),np.log10(10000),1000)\n",
    "# I think this is 1\n",
    "delta_l = 1\n",
    "\n",
    "dNdz_true = ccl.dNdzSmail(alpha = 1.3, beta = 1.5, z0=0.65)\n",
    "# Assumes photo-z error is Gaussian with a bias is 0.05(1+z)\n",
    "pz = ccl.PhotoZGaussian(sigma_z0=0.05)\n",
    "\n"
   ]
  },
  {
   "cell_type": "code",
   "execution_count": 109,
   "metadata": {},
   "outputs": [],
   "source": [
    "def euclid_ccl(Omega_c, Omega_b=0.045, sigma8=0.83, n_s=0.963, h=0.71, mps='halofit'):\n",
    "    \"\"\"\n",
    "    Generate C_ell as function of ell for a given Omega_c and Sigma8\n",
    "\n",
    "    Inputs\n",
    "        Omega_c -- float: CDM density \n",
    "        Sigma_8 -- float: sigma_8\n",
    "        mps     -- string: model to use for matter power spectrum\n",
    "\n",
    "    Assumed global variables\n",
    "        z -- np.array: samples of z\n",
    "        ells -- np.array: samples of ell\n",
    "        dNdz_true -- ccl.dNdzSmail: dNdz distribution\n",
    "        pz -- ccl.PhotoZGaussian: PhotoZ error\n",
    "        nbins -- the amount of tomographic redshift bins\n",
    "\n",
    "    Outputs\n",
    "        Cls -- np.array, shape (nbins*(nbins-1)/2 + nbins, len(ell)): \n",
    "                Cross/Auto correlation shear spectra for the tomographic bins\n",
    "        dNdzs -- np.array, shape (nbins,len(z):\n",
    "                dNdz per redshift bin, for all redshifts\n",
    "\n",
    "    \"\"\"\n",
    "\n",
    "    cosmo_fid = ccl.Cosmology(Omega_c=Omega_c, Omega_b=Omega_b, h=h, sigma8=sigma8, n_s=n_s, matter_power_spectrum=mps)\n",
    "\n",
    "    dNdzs = np.zeros((nbins, z.size))\n",
    "    shears = []\n",
    "    \n",
    "    for i in range(nbins):\n",
    "        # edges of 2 redshift bins\n",
    "        zmin_b, zmax_b = zbins[i]\n",
    "        print (f'Redshift bin {i}: {zmin_b} - {zmax_b}')\n",
    "        # generate dNdz per bin\n",
    "        dNdzs[i,:] = ccl.dNdz_tomog(z=z, zmin=zmin_b, zmax=zmax_b, pz_func=pz, dNdz_func = dNdz_true)\n",
    "        # calculate the shear per bin\n",
    "        gal_shapes = ccl.WeakLensingTracer(cosmo_fid, dndz=(z, dNdzs[i,:]))\n",
    "        shears.append(gal_shapes)\n",
    "        \n",
    "    # calculate nbin*(nbin+1)/2 = 3 spectra from the shears\n",
    "    Cls = []\n",
    "    for i in range(nbins):\n",
    "        for j in range(0,i+1):\n",
    "            Cls.append(ccl.angular_cl(cosmo_fid, shears[i], shears[j], ells))\n",
    "     \n",
    "    return np.array(Cls), dNdzs"
   ]
  },
  {
   "cell_type": "code",
   "execution_count": 110,
   "metadata": {},
   "outputs": [
    {
     "name": "stdout",
     "output_type": "stream",
     "text": [
      "Redshift bin 0: 0.5 - 0.7\n",
      "Redshift bin 1: 0.9 - 1.1\n",
      "Redshift bin 0: 0.5 - 0.7\n",
      "Redshift bin 1: 0.9 - 1.1\n"
     ]
    }
   ],
   "source": [
    "Cls, dNdzs = euclid_ccl(Omega_c = 0.211, Omega_b = 0.045, mps='halofit')\n",
    "Cls_lin, dNdzs_lin = euclid_ccl(Omega_c = 0.211, Omega_b = 0.045, mps='linear')"
   ]
  },
  {
   "cell_type": "code",
   "execution_count": null,
   "metadata": {},
   "outputs": [],
   "source": [
    "fig, ax = plt.subplots(figsize=(8,6))\n",
    "labels = ['00', '01', '11']\n",
    "prop_cycle = plt.rcParamsDefault['axes.prop_cycle']\n",
    "colors = prop_cycle.by_key()['color']\n",
    "\n",
    "for i in range(ncombinations):\n",
    "    # non linear mps\n",
    "    plt.loglog(ells, ells*(ells+1)*Cls[i]/(2*np.pi),label=labels[i], color=colors[i])\n",
    "    # linear as dashed\n",
    "    plt.loglog(ells, ells*(ells+1)*Cls_lin[i]/(2*np.pi),ls='dashed', color=colors[i])\n",
    "\n",
    "plt.xlabel('$\\ell$',fontsize=14)\n",
    "plt.ylabel('$\\ell  (\\ell + 1) / (2 \\pi) C_\\ell$',fontsize=14)\n",
    "plt.legend()\n",
    "plt.savefig('./angular_power_spectrum.png')\n",
    "plt.show()"
   ]
  },
  {
   "cell_type": "code",
   "execution_count": null,
   "metadata": {},
   "outputs": [],
   "source": [
    "# Calculate derivatives numerically\n",
    "def calculate_derivative(param):\n",
    "    if param == 'Omega_c':\n",
    "        dOmega = 0.002\n",
    "        Omega_c = 0.211\n",
    "        Cls_t, _ = euclid_ccl(Omega_c = Omega_c+dOmega, Omega_b = 0.045, mps='halofit')            \n",
    "        logderiv = (np.log(Cls_t) - np.log(Cls)) / dOmega * Omega_c\n",
    "        \n",
    "    elif param == 'Omega_b':\n",
    "        dOmega = 0.002\n",
    "        Omega_b = 0.045\n",
    "        Cls_t, _ = euclid_ccl(Omega_c = 0.211, Omega_b = 0.045+dOmega, mps='halofit')            \n",
    "        logderiv = (np.log(Cls_t) - np.log(Cls)) / dOmega * Omega_b\n",
    "        \n",
    "    elif param == 'sigma8':\n",
    "        dsigma = 0.002\n",
    "        sigma8 = 0.83\n",
    "        Cls_t, _ = euclid_ccl(Omega_c = 0.211, Omega_b = 0.045, sigma8=sigma8+dsigma, mps='halofit')            \n",
    "        logderiv = (np.log(Cls_t) - np.log(Cls)) / dsigma * sigma8\n",
    "        \n",
    "    elif param == 'n_s':\n",
    "        dns = 0.002\n",
    "        n_s = 0.963\n",
    "        Cls_t, _ = euclid_ccl(Omega_c = 0.211, Omega_b = 0.045, sigma8=0.83, n_s = n_s+dns, mps='halofit')            \n",
    "        logderiv = (np.log(Cls_t) - np.log(Cls)) / dns * n_s\n",
    "        \n",
    "    elif param == 'h':\n",
    "        dh = 0.01\n",
    "        h = 0.71\n",
    "        Cls_t, _ = euclid_ccl(Omega_c = 0.211, Omega_b = 0.045, sigma8=0.83, h = h+dh, mps='halofit')            \n",
    "        logderiv = (np.log(Cls_t) - np.log(Cls)) / dh * h       \n",
    "    \n",
    "    else:\n",
    "        print (f'Parameter {param} not implemented yet ')\n",
    "    \n",
    "    return logderiv\n"
   ]
  },
  {
   "cell_type": "code",
   "execution_count": null,
   "metadata": {},
   "outputs": [
    {
     "name": "stdout",
     "output_type": "stream",
     "text": [
      "Redshift bin 0: 0.5 - 0.7\n",
      "Redshift bin 1: 0.9 - 1.1\n"
     ]
    }
   ],
   "source": [
    "logderiv_Ob = calculate_derivative('Omega_b')\n",
    "logderiv_Oc = calculate_derivative('Omega_c')\n",
    "logderiv_s8 = calculate_derivative('sigma8')\n",
    "logderiv_ns = calculate_derivative('n_s')\n",
    "logderiv_h = calculate_derivative('h')"
   ]
  },
  {
   "cell_type": "code",
   "execution_count": null,
   "metadata": {},
   "outputs": [],
   "source": [
    "fig, ax = plt.subplots(1,1, figsize=(8,6))\n",
    "ax.plot(ells, logderiv_Ob[2], label='$\\Omega_b$')\n",
    "ax.plot(ells, logderiv_Oc[2], label='$\\Omega_c$')\n",
    "ax.plot(ells, logderiv_s8[2], label='$\\sigma_8$')\n",
    "ax.plot(ells, logderiv_ns[2], label='$n_s$')\n",
    "ax.plot(ells, logderiv_h[2], label='$h$')\n",
    "ax.set_xlabel('$\\ell$')\n",
    "ax.set_ylabel('d$ ln C_\\ell$ / d$ ln p_k$')\n",
    "ax.set_xscale('log')\n",
    "ax.set_ylim(-3,3)\n",
    "ax.legend(loc='lower right',frameon=False)\n",
    "plt.savefig('./derivatives.png')\n",
    "plt.show()"
   ]
  },
  {
   "cell_type": "code",
   "execution_count": null,
   "metadata": {},
   "outputs": [],
   "source": []
  },
  {
   "cell_type": "code",
   "execution_count": null,
   "metadata": {},
   "outputs": [],
   "source": []
  },
  {
   "cell_type": "code",
   "execution_count": null,
   "metadata": {},
   "outputs": [],
   "source": []
  },
  {
   "cell_type": "code",
   "execution_count": null,
   "metadata": {},
   "outputs": [],
   "source": []
  },
  {
   "cell_type": "code",
   "execution_count": null,
   "metadata": {},
   "outputs": [],
   "source": []
  },
  {
   "cell_type": "code",
   "execution_count": null,
   "metadata": {},
   "outputs": [],
   "source": []
  }
 ],
 "metadata": {
  "kernelspec": {
   "display_name": "Python 3",
   "language": "python",
   "name": "python3"
  },
  "language_info": {
   "codemirror_mode": {
    "name": "ipython",
    "version": 3
   },
   "file_extension": ".py",
   "mimetype": "text/x-python",
   "name": "python",
   "nbconvert_exporter": "python",
   "pygments_lexer": "ipython3",
   "version": "3.6.6"
  }
 },
 "nbformat": 4,
 "nbformat_minor": 2
}
