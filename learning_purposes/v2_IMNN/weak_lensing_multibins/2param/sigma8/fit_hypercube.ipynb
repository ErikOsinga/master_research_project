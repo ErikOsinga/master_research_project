{
 "cells": [
  {
   "cell_type": "code",
   "execution_count": 3,
   "metadata": {},
   "outputs": [],
   "source": [
    "import numpy as np\n",
    "import matplotlib.pyplot as plt\n",
    "\n",
    "import sys\n",
    "sys.path.append('../../../../')\n",
    "import set_plot_sizes\n",
    "\n",
    "sys.path.append('../../../../cosmosis_wrappers/') # change to correct path\n",
    "import ABC_saved_sims_multiparam\n",
    "\n",
    "from tqdm import tqdm_notebook as tqdm\n",
    "\n",
    "# change to the path where ABCPMC git clone is located\n",
    "sys.path.insert(0,'../../../../../abcpmc/')\n",
    "import abcpmc # find citation at https://github.com/jakeret/abcpmc\n",
    "\n",
    "import corner"
   ]
  },
  {
   "cell_type": "code",
   "execution_count": 8,
   "metadata": {},
   "outputs": [],
   "source": []
  },
  {
   "cell_type": "code",
   "execution_count": null,
   "metadata": {},
   "outputs": [],
   "source": []
  },
  {
   "cell_type": "code",
   "execution_count": null,
   "metadata": {},
   "outputs": [],
   "source": []
  }
 ],
 "metadata": {
  "kernelspec": {
   "display_name": "Python 3",
   "language": "python",
   "name": "python3"
  },
  "language_info": {
   "codemirror_mode": {
    "name": "ipython",
    "version": 3
   },
   "file_extension": ".py",
   "mimetype": "text/x-python",
   "name": "python",
   "nbconvert_exporter": "python",
   "pygments_lexer": "ipython3",
   "version": "3.6.6"
  }
 },
 "nbformat": 4,
 "nbformat_minor": 2
}
